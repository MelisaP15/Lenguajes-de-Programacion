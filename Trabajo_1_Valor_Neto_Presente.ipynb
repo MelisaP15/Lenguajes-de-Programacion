{
  "nbformat": 4,
  "nbformat_minor": 0,
  "metadata": {
    "colab": {
      "provenance": []
    },
    "kernelspec": {
      "name": "python3",
      "display_name": "Python 3"
    },
    "language_info": {
      "name": "python"
    }
  },
  "cells": [
    {
      "cell_type": "code",
      "execution_count": null,
      "metadata": {
        "id": "PGkOmdBmFy6c"
      },
      "outputs": [],
      "source": []
    },
    {
      "cell_type": "markdown",
      "source": [
        "# Valor Presente Neto (VPN)\n",
        "\n",
        "El Valor Presente Neto (VPN), también conocido como Valor Actual Neto (VAN), es una herramienta de análisis financiero que calcula la rentabilidad de una inversión o proyecto, sumando el valor actual de los flujos de efectivo futuros y restando la inversión inicial. Se basa en el principio de que el dinero hoy vale más que el dinero en el futuro, por lo que los flujos futuros se \"descuentan\" a una tasa de descuento que refleja el costo de oportunidad o la rentabilidad mínima exigida.\n",
        "\n",
        "## Formula del Valor Presente Neto\n",
        "\n",
        "La formula se muestra de la siguiente manera:\n",
        "\n",
        "\\[\n",
        "  $$\n",
        "  VPN = \\sum_{t=0}^{n} \\frac{C_t}{(1+r)^t} - C_0\n",
        "  $$\n",
        "\n",
        "  \\]\n",
        "\n",
        "  Donde:\n",
        "\n",
        "  - \\(C_t\\) es el flujo de caja en el tiempo \\(t\\).\n",
        "  - \\(r\\) es la tasa de descuento.\n",
        "  - \\(n\\) es el numero total de periodos.\n",
        "  - \\(C_0\\) es la inversión inicial.\n",
        "\n",
        "  ## Interpretación\n",
        "\n",
        "  - Si \\(VPN > 0\\), la inversión es rentable.\n",
        "  - Si \\(VPN < 0\\), la inversió no es rentable.\n",
        "  - Si \\(VPN = 0\\), la inversión no genera ni pérdidas ni ganancias.\n",
        "\n",
        "  ## Enlace Útil\n",
        "\n",
        "  Para consultar más sobre el Valor Presente Neto, puedes consultar en el siguiente [enlace](https://leanfinance.es/blog/valor-presente-neto/).\n",
        "\n",
        "\n",
        "\n",
        "\n"
      ],
      "metadata": {
        "id": "k-SjJglaMInw"
      }
    },
    {
      "cell_type": "code",
      "source": [
        "inversion_inicial = 10000\n",
        "flujo_ano_1 = 3000\n",
        "flujo_ano_2 = 3000\n",
        "flujo_ano_3 = 3000\n",
        "\n",
        "tasa_descuento = 0.05"
      ],
      "metadata": {
        "id": "N98YiKr8U4q-"
      },
      "execution_count": null,
      "outputs": []
    },
    {
      "cell_type": "code",
      "source": [
        "vpn = (flujo_ano_1 / (1 + tasa_descuento)**1) + \\\n",
        "      (flujo_ano_2 / (1 + tasa_descuento)**2) + \\\n",
        "      (flujo_ano_3 / (1 + tasa_descuento)**3) - inversion_inicial\n",
        "\n",
        "print(\"El Valor Presente Neto (VPN) es:\", vpn)\n",
        "\n",
        "\n"
      ],
      "metadata": {
        "colab": {
          "base_uri": "https://localhost:8080/"
        },
        "id": "8IfOzycCWkwC",
        "outputId": "6df986bf-9e94-48a4-aa76-5f7261b08853"
      },
      "execution_count": null,
      "outputs": [
        {
          "output_type": "stream",
          "name": "stdout",
          "text": [
            "El Valor Presente Neto (VPN) es: -1830.2559118885656\n"
          ]
        }
      ]
    },
    {
      "cell_type": "code",
      "source": [
        "VPN > 0\n",
        "print(\"El proyecto no es viable, ya que el VPN  es negativo.\")\n",
        "\n"
      ],
      "metadata": {
        "colab": {
          "base_uri": "https://localhost:8080/"
        },
        "id": "LDv33TH2Z8O2",
        "outputId": "8a44a8d8-c578-4096-b6df-5fba00f7d2cd"
      },
      "execution_count": null,
      "outputs": [
        {
          "output_type": "stream",
          "name": "stdout",
          "text": [
            "El proyecto no es viable, ya que el VPN  es negativo.\n"
          ]
        }
      ]
    }
  ]
}